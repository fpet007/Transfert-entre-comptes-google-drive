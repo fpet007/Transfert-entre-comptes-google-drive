{
  "nbformat": 4,
  "nbformat_minor": 0,
  "metadata": {
    "colab": {
      "name": "Transfert entre comptes google drive.ipynb",
      "provenance": [],
      "collapsed_sections": []
    },
    "kernelspec": {
      "name": "python3",
      "display_name": "Python 3"
    }
  },
  "cells": [
    {
      "cell_type": "markdown",
      "metadata": {
        "id": "naZmcDJkUTgw"
      },
      "source": [
        "# **<font color='orange'> Transfert entre compte google drive**\r\n",
        "\r\n"
      ]
    },
    {
      "cell_type": "markdown",
      "metadata": {
        "id": "8fwCwnWtQo3n"
      },
      "source": [
        "#**<font color='green'> Monter vos 2 comptes Google drive**"
      ]
    },
    {
      "cell_type": "code",
      "metadata": {
        "id": "WUCDtG2sQKMw",
        "cellView": "form"
      },
      "source": [
        "#@markdown ###Monter le Drive 01 sur /content/drive-01\n",
        "from google.colab import drive\n",
        "drive.mount('/content/drive-01')"
      ],
      "execution_count": null,
      "outputs": []
    },
    {
      "cell_type": "code",
      "metadata": {
        "id": "kCON2oKOQgIx",
        "cellView": "form"
      },
      "source": [
        "#@markdown ###Monter le Drive 02 to /content/drive-02\n",
        "!apt-get install -y -qq software-properties-common module-init-tools\n",
        "!add-apt-repository -y ppa:alessandro-strada/ppa 2>&1 > /dev/null\n",
        "!apt-get update -qq 2>&1 > /dev/null\n",
        "!apt-get -y install -qq google-drive-ocamlfuse fuse\n",
        "from google.colab import auth\n",
        "auth.authenticate_user()\n",
        "from oauth2client.client import GoogleCredentials\n",
        "creds = GoogleCredentials.get_application_default()\n",
        "import getpass\n",
        "!google-drive-ocamlfuse -headless -id={creds.client_id} -secret={creds.client_secret} < /dev/null 2>&1 | grep URL\n",
        "vcode = getpass.getpass()\n",
        "!echo {vcode} | google-drive-ocamlfuse -headless -id={creds.client_id} -secret={creds.client_secret}\n",
        "!mkdir -p /content/drive-02\n",
        "!google-drive-ocamlfuse /content/drive-02"
      ],
      "execution_count": null,
      "outputs": []
    },
    {
      "cell_type": "markdown",
      "metadata": {
        "id": "Zpsd7UgqQ6LN"
      },
      "source": [
        "#**<font color='green'>Copier les dossiers**"
      ]
    },
    {
      "cell_type": "code",
      "metadata": {
        "id": "ogOo8NqDRcJj",
        "cellView": "form"
      },
      "source": [
        "#@markdown *Le dossier d'entrée sera copié dans le dossier de destination*\n",
        "input_folder = \"\" #@param {type:\"string\"}\n",
        "destination_folder = \"\" #@param {type:\"string\"}\n",
        "!cp -a -v \"$input_folder\" \"$destination_folder\"\n",
        "print(\"Copied successfully!\")"
      ],
      "execution_count": null,
      "outputs": []
    },
    {
      "cell_type": "markdown",
      "metadata": {
        "id": "dAFl-ZzjUkNb"
      },
      "source": [
        "#**<font color='green'>Copier des fichiers**"
      ]
    },
    {
      "cell_type": "code",
      "metadata": {
        "id": "7ZsuNEmuUkNc",
        "cellView": "form"
      },
      "source": [
        "#@markdown *Le fichier d'entrée sera copié dans le dossier de destination*\n",
        "input_file = \"\" #@param {type:\"string\"}\n",
        "destination_folder = \"\" #@param {type:\"string\"}\n",
        "!cp -v \"$input_file\" \"$destination_folder\"\n",
        "print(\"Copied successfully!\")"
      ],
      "execution_count": null,
      "outputs": []
    }
  ]
}